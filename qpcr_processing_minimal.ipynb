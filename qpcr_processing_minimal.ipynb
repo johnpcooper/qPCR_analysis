{
 "cells": [
  {
   "cell_type": "code",
   "execution_count": 1,
   "metadata": {
    "collapsed": true
   },
   "outputs": [],
   "source": [
    "import numpy as np\n",
    "import pandas as pd\n",
    "\n",
    "from Tkinter import Tk\n",
    "from Tkinter import *\n",
    "import Tkinter, Tkconstants, tkFileDialog\n",
    "from tkFileDialog import askopenfilename\n",
    "from tkCommonDialog import Dialog\n",
    "import tkMessageBox as mb\n"
   ]
  },
  {
   "cell_type": "markdown",
   "metadata": {},
   "source": [
    "Select the .xlsx file from which you would like to remove outliers.  "
   ]
  },
  {
   "cell_type": "code",
   "execution_count": 2,
   "metadata": {
    "collapsed": true
   },
   "outputs": [],
   "source": [
    "mb.showinfo(\"qPCR Processer\", \"Select the file you would like to filter.\")\n",
    "# get the file name from the user using tkinter\n",
    "Tk().withdraw() # we don't want a full GUI, so keep the root window from appearing\n",
    "path = askopenfilename() # show an \"Open\" dialog box and return the path"
   ]
  },
  {
   "cell_type": "markdown",
   "metadata": {},
   "source": [
    "Create a DataFrame with values from the .xlsx file you selected above."
   ]
  },
  {
   "cell_type": "code",
   "execution_count": 3,
   "metadata": {
    "collapsed": true,
    "scrolled": true
   },
   "outputs": [],
   "source": [
    "df = pd.read_excel(path, \n",
    "                   header=None, \n",
    "                   names=['RowCol',1,2,3,'replicate','Ct',6,7,8,9,10,11,12])"
   ]
  },
  {
   "cell_type": "markdown",
   "metadata": {},
   "source": [
    "#### Edit() class to remove outliers:\n",
    "If a Ct value in a triplicate is > 1 standard devation from the mean, you can remove it using the remove_outliers() method of the Edit class."
   ]
  },
  {
   "cell_type": "code",
   "execution_count": 4,
   "metadata": {
    "collapsed": true,
    "scrolled": true
   },
   "outputs": [],
   "source": [
    "class Edit(object):\n",
    "    def __init__(self, data, cutoff):\n",
    "        # data is a DataFrame like dfa above\n",
    "        self.data = data\n",
    "        self.cutoff = cutoff\n",
    "        self.trips = data.groupby('replicate')\n",
    "        # define some important variables for the function loop to use\n",
    "        self.std = self.trips['Ct'].std()\n",
    "        self.ul = self.trips['Ct'].mean() + self.std\n",
    "        self.ll = self.trips['Ct'].mean() - self.std\n",
    "        \n",
    "    def remove_outliers(self):\n",
    "        \n",
    "        for group in self.trips.groups:\n",
    "                for row in range(0, len(self.trips.groups[group])):\n",
    "\n",
    "                    index = self.trips.groups[group][row]                    \n",
    "\n",
    "                    if (self.std[group] > self.cutoff) and (self.data['Ct'][index] > self.ul[group] or self.data['Ct'][index] < self.ll[group]):\n",
    "                        #print(self.ll[group], dfa['Ct'][index], self.ul[group])\n",
    "                        self.data['Ct'][index] = 'outlier'\n",
    "\n",
    "        return self.data"
   ]
  },
  {
   "cell_type": "markdown",
   "metadata": {},
   "source": [
    "Below is an instantiation of the Edit class. It is called with the dataframe created above and the minimum standard deviation that indicates a need for outlier removal. "
   ]
  },
  {
   "cell_type": "code",
   "execution_count": 5,
   "metadata": {},
   "outputs": [
    {
     "name": "stderr",
     "output_type": "stream",
     "text": [
      "C:\\Users\\John Cooper\\AppData\\Local\\Continuum\\Anaconda2\\lib\\site-packages\\ipykernel_launcher.py:21: SettingWithCopyWarning: \n",
      "A value is trying to be set on a copy of a slice from a DataFrame\n",
      "\n",
      "See the caveats in the documentation: http://pandas.pydata.org/pandas-docs/stable/indexing.html#indexing-view-versus-copy\n",
      "C:\\Users\\John Cooper\\AppData\\Local\\Continuum\\Anaconda2\\lib\\site-packages\\pandas\\core\\indexing.py:179: SettingWithCopyWarning: \n",
      "A value is trying to be set on a copy of a slice from a DataFrame\n",
      "\n",
      "See the caveats in the documentation: http://pandas.pydata.org/pandas-docs/stable/indexing.html#indexing-view-versus-copy\n",
      "  self._setitem_with_indexer(indexer, value)\n"
     ]
    },
    {
     "data": {
      "text/html": [
       "<div>\n",
       "<style>\n",
       "    .dataframe thead tr:only-child th {\n",
       "        text-align: right;\n",
       "    }\n",
       "\n",
       "    .dataframe thead th {\n",
       "        text-align: left;\n",
       "    }\n",
       "\n",
       "    .dataframe tbody tr th {\n",
       "        vertical-align: top;\n",
       "    }\n",
       "</style>\n",
       "<table border=\"1\" class=\"dataframe\">\n",
       "  <thead>\n",
       "    <tr style=\"text-align: right;\">\n",
       "      <th></th>\n",
       "      <th>RowCol</th>\n",
       "      <th>1</th>\n",
       "      <th>2</th>\n",
       "      <th>3</th>\n",
       "      <th>replicate</th>\n",
       "      <th>Ct</th>\n",
       "      <th>6</th>\n",
       "      <th>7</th>\n",
       "      <th>8</th>\n",
       "      <th>9</th>\n",
       "      <th>10</th>\n",
       "      <th>11</th>\n",
       "      <th>12</th>\n",
       "    </tr>\n",
       "  </thead>\n",
       "  <tbody>\n",
       "    <tr>\n",
       "      <th>0</th>\n",
       "      <td>A01</td>\n",
       "      <td>SYBR</td>\n",
       "      <td>Unkn</td>\n",
       "      <td>NaN</td>\n",
       "      <td>1</td>\n",
       "      <td>24.15</td>\n",
       "      <td>23.82</td>\n",
       "      <td>0.296</td>\n",
       "      <td>0</td>\n",
       "      <td>NaN</td>\n",
       "      <td>0</td>\n",
       "      <td>0</td>\n",
       "      <td>NaN</td>\n",
       "    </tr>\n",
       "    <tr>\n",
       "      <th>1</th>\n",
       "      <td>A02</td>\n",
       "      <td>SYBR</td>\n",
       "      <td>Unkn</td>\n",
       "      <td>NaN</td>\n",
       "      <td>1</td>\n",
       "      <td>23.74</td>\n",
       "      <td>23.82</td>\n",
       "      <td>0.296</td>\n",
       "      <td>0</td>\n",
       "      <td>NaN</td>\n",
       "      <td>0</td>\n",
       "      <td>0</td>\n",
       "      <td>NaN</td>\n",
       "    </tr>\n",
       "    <tr>\n",
       "      <th>2</th>\n",
       "      <td>A03</td>\n",
       "      <td>SYBR</td>\n",
       "      <td>Unkn</td>\n",
       "      <td>NaN</td>\n",
       "      <td>1</td>\n",
       "      <td>23.58</td>\n",
       "      <td>23.82</td>\n",
       "      <td>0.296</td>\n",
       "      <td>0</td>\n",
       "      <td>NaN</td>\n",
       "      <td>0</td>\n",
       "      <td>0</td>\n",
       "      <td>NaN</td>\n",
       "    </tr>\n",
       "    <tr>\n",
       "      <th>3</th>\n",
       "      <td>A04</td>\n",
       "      <td>SYBR</td>\n",
       "      <td>Unkn</td>\n",
       "      <td>NaN</td>\n",
       "      <td>2</td>\n",
       "      <td>23.66</td>\n",
       "      <td>23.65</td>\n",
       "      <td>0.019</td>\n",
       "      <td>0</td>\n",
       "      <td>NaN</td>\n",
       "      <td>0</td>\n",
       "      <td>0</td>\n",
       "      <td>NaN</td>\n",
       "    </tr>\n",
       "    <tr>\n",
       "      <th>4</th>\n",
       "      <td>A05</td>\n",
       "      <td>SYBR</td>\n",
       "      <td>Unkn</td>\n",
       "      <td>NaN</td>\n",
       "      <td>2</td>\n",
       "      <td>23.63</td>\n",
       "      <td>23.65</td>\n",
       "      <td>0.019</td>\n",
       "      <td>0</td>\n",
       "      <td>NaN</td>\n",
       "      <td>0</td>\n",
       "      <td>0</td>\n",
       "      <td>NaN</td>\n",
       "    </tr>\n",
       "  </tbody>\n",
       "</table>\n",
       "</div>"
      ],
      "text/plain": [
       "  RowCol     1     2   3  replicate     Ct      6      7  8   9  10  11  12\n",
       "0    A01  SYBR  Unkn NaN          1  24.15  23.82  0.296  0 NaN   0   0 NaN\n",
       "1    A02  SYBR  Unkn NaN          1  23.74  23.82  0.296  0 NaN   0   0 NaN\n",
       "2    A03  SYBR  Unkn NaN          1  23.58  23.82  0.296  0 NaN   0   0 NaN\n",
       "3    A04  SYBR  Unkn NaN          2  23.66  23.65  0.019  0 NaN   0   0 NaN\n",
       "4    A05  SYBR  Unkn NaN          2  23.63  23.65  0.019  0 NaN   0   0 NaN"
      ]
     },
     "execution_count": 5,
     "metadata": {},
     "output_type": "execute_result"
    }
   ],
   "source": [
    "test1 = Edit(df, 0.3)\n",
    "df_no_outs = test1.remove_outliers()\n",
    "df_no_outs.head()"
   ]
  },
  {
   "cell_type": "code",
   "execution_count": 6,
   "metadata": {
    "collapsed": true
   },
   "outputs": [],
   "source": [
    "# Tell the user to select processed data output directory\n",
    "mb.showinfo(\"qPCR Processer\",\n",
    "\"Choose your output file. Include the file extension .xlsx in the title your write\")\n",
    "\n",
    "# ask the user to 'save as' the output file\n",
    "root = Tk()\n",
    "root.filename = tkFileDialog.asksaveasfilename(\n",
    "    initialdir = str(path),\n",
    "    title = \"Select file\",\n",
    "    filetypes = ((\"xlsx files\",\"*.xlsx\"),(\"all files\",\"*.*\"))\n",
    "    )\n",
    "\n",
    "output_path = str(root.filename) \n",
    "\n",
    "writer = pd.ExcelWriter(output_path)\n",
    "df.to_excel(writer, 'Sheet1', header=None)\n",
    "writer.save()\n",
    "\n",
    "\n",
    "# quit python. I'm not sure how else to end tkinter get rid of the annoying \n",
    "# tkinter windows. This ends the whole kernel too so you if you want to do another\n",
    "# sheet you need to rerun the whole kernel from the top.\n",
    "quit()"
   ]
  }
 ],
 "metadata": {
  "kernelspec": {
   "display_name": "Python 2",
   "language": "python",
   "name": "python2"
  },
  "language_info": {
   "codemirror_mode": {
    "name": "ipython",
    "version": 2
   },
   "file_extension": ".py",
   "mimetype": "text/x-python",
   "name": "python",
   "nbconvert_exporter": "python",
   "pygments_lexer": "ipython2",
   "version": "2.7.13"
  }
 },
 "nbformat": 4,
 "nbformat_minor": 2
}
